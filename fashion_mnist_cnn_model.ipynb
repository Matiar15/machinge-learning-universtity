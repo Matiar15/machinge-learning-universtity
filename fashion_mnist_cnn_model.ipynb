{
 "cells": [
  {
   "metadata": {},
   "cell_type": "markdown",
   "source": "Setting up imports",
   "id": "efe9d0d6e044e16d"
  },
  {
   "metadata": {
    "ExecuteTime": {
     "end_time": "2025-06-08T13:40:25.740571Z",
     "start_time": "2025-06-08T13:40:25.738311Z"
    }
   },
   "cell_type": "code",
   "source": [
    "import torch\n",
    "import torch.nn as nn\n",
    "import torchvision\n",
    "import torchvision.transforms as transforms\n",
    "import pandas as pd\n",
    "import numpy as np\n",
    "\n",
    "from example.CNN_model import CNNModel\n",
    "from example.MNIST_dataset import MNISTDataset"
   ],
   "id": "initial_id",
   "outputs": [],
   "execution_count": 16
  },
  {
   "metadata": {},
   "cell_type": "markdown",
   "source": "Adding custom hyper-parameters",
   "id": "b6180494e602399"
  },
  {
   "metadata": {
    "ExecuteTime": {
     "end_time": "2025-06-08T13:44:03.115762Z",
     "start_time": "2025-06-08T13:44:03.113056Z"
    }
   },
   "cell_type": "code",
   "source": [
    "learning_rate = 0.01\n",
    "momentum = 0.9\n",
    "num_epochs = 20"
   ],
   "id": "b613c53866b5dee5",
   "outputs": [],
   "execution_count": 29
  },
  {
   "metadata": {},
   "cell_type": "markdown",
   "source": "Set up a device for pytorch calculations",
   "id": "785aee24d574964f"
  },
  {
   "metadata": {
    "ExecuteTime": {
     "end_time": "2025-06-08T13:40:27.253791Z",
     "start_time": "2025-06-08T13:40:27.250422Z"
    }
   },
   "cell_type": "code",
   "source": "device = torch.device(\"cuda\" if torch.cuda.is_available() else \"cpu\")",
   "id": "50f20f18d4d19adb",
   "outputs": [],
   "execution_count": 18
  },
  {
   "metadata": {},
   "cell_type": "markdown",
   "source": "Loading datasets, training dataset from kaggle and test dataset from kaggle",
   "id": "5e7f1f76d88f3063"
  },
  {
   "metadata": {
    "ExecuteTime": {
     "end_time": "2025-06-08T13:44:58.254977Z",
     "start_time": "2025-06-08T13:44:55.764763Z"
    }
   },
   "cell_type": "code",
   "source": [
    "train_dataloader = torch.utils.data.DataLoader(dataset=MNISTDataset(file=\"model_data/fashion-mnist_train.csv\"), batch_size=1024, pin_memory=True, num_workers=4)\n",
    "test_data = torch.utils.data.DataLoader(dataset=MNISTDataset(file=\"model_data/fashion-mnist_test.csv\"), batch_size=1024, pin_memory=True, num_workers=4)"
   ],
   "id": "51cae9195d5e338b",
   "outputs": [],
   "execution_count": 32
  },
  {
   "metadata": {},
   "cell_type": "markdown",
   "source": "Add loss function - Cross Entropy Loss",
   "id": "6096ab0d98f07ba8"
  },
  {
   "metadata": {
    "ExecuteTime": {
     "end_time": "2025-06-08T13:43:48.690802Z",
     "start_time": "2025-06-08T13:43:48.687783Z"
    }
   },
   "cell_type": "code",
   "source": "criterion = nn.CrossEntropyLoss()",
   "id": "abcca89b899ff4eb",
   "outputs": [],
   "execution_count": 26
  },
  {
   "metadata": {},
   "cell_type": "markdown",
   "source": "Model initalization and learning algorithm",
   "id": "30137c97aa4c674b"
  },
  {
   "metadata": {
    "ExecuteTime": {
     "end_time": "2025-06-08T13:44:05.189400Z",
     "start_time": "2025-06-08T13:44:05.182578Z"
    }
   },
   "cell_type": "code",
   "source": [
    "model = CNNModel()\n",
    "model.to(device)\n",
    "optimizer = torch.optim.SGD(model.parameters(), lr=learning_rate, momentum=momentum)"
   ],
   "id": "7b2024c8eea2567b",
   "outputs": [],
   "execution_count": 30
  },
  {
   "metadata": {},
   "cell_type": "markdown",
   "source": "Training with printing out loss values by epoch",
   "id": "9218a94b6c5ac93c"
  },
  {
   "metadata": {
    "ExecuteTime": {
     "end_time": "2025-06-08T13:44:21.015320Z",
     "start_time": "2025-06-08T13:44:05.815394Z"
    }
   },
   "cell_type": "code",
   "source": [
    "for epoch in range(num_epochs):\n",
    "    model.train()\n",
    "    running_loss = 0.0\n",
    "\n",
    "    for images, labels in train_dataloader:\n",
    "        images, labels = images.to(device, non_blocking=True), labels.to(device, non_blocking=True)\n",
    "\n",
    "        optimizer.zero_grad()\n",
    "        outputs = model(images)\n",
    "        loss = criterion(outputs, labels)\n",
    "\n",
    "        loss.backward()\n",
    "        optimizer.step()\n",
    "\n",
    "\n",
    "        running_loss += loss.item()\n",
    "\n",
    "    print(f\"Epoch [{epoch+1}/{num_epochs}], Loss: {running_loss:.4f}\")"
   ],
   "id": "b9c65831f09cb532",
   "outputs": [
    {
     "name": "stdout",
     "output_type": "stream",
     "text": [
      "Epoch [1/20], Loss: 155.9537\n",
      "Epoch [2/20], Loss: 29.4326\n",
      "Epoch [3/20], Loss: 25.1269\n",
      "Epoch [4/20], Loss: 23.2756\n",
      "Epoch [5/20], Loss: 22.1352\n",
      "Epoch [6/20], Loss: 21.3079\n",
      "Epoch [7/20], Loss: 20.6493\n",
      "Epoch [8/20], Loss: 20.0524\n",
      "Epoch [9/20], Loss: 19.5883\n",
      "Epoch [10/20], Loss: 19.3110\n",
      "Epoch [11/20], Loss: 18.9632\n",
      "Epoch [12/20], Loss: 18.4365\n",
      "Epoch [13/20], Loss: 18.0088\n",
      "Epoch [14/20], Loss: 17.6757\n",
      "Epoch [15/20], Loss: 17.4607\n",
      "Epoch [16/20], Loss: 17.2014\n",
      "Epoch [17/20], Loss: 16.8908\n",
      "Epoch [18/20], Loss: 16.6665\n",
      "Epoch [19/20], Loss: 16.5004\n",
      "Epoch [20/20], Loss: 16.3210\n"
     ]
    }
   ],
   "execution_count": 31
  },
  {
   "metadata": {},
   "cell_type": "markdown",
   "source": "Check model accuracy on test dataset",
   "id": "775f003904685265"
  },
  {
   "metadata": {},
   "cell_type": "code",
   "outputs": [],
   "execution_count": null,
   "source": [
    "correct = 0\n",
    "total = 0\n",
    "model.eval()\n",
    "with torch.no_grad():\n",
    "    for images, labels in test_dataloader:\n",
    "        images, labels = images.to(device), labels.to(device)\n",
    "        outputs = model(images)\n",
    "        _, predicted = torch.max(outputs.data, 1)\n",
    "        total += labels.size(0)\n",
    "        correct += (predicted == labels).sum().item()\n",
    "\n",
    "print(f\"Accuracy on test data: {100 * correct / total:.2f}%\")\n"
   ],
   "id": "879a726cfbf98092"
  }
 ],
 "metadata": {
  "kernelspec": {
   "display_name": "Python 3",
   "language": "python",
   "name": "python3"
  },
  "language_info": {
   "codemirror_mode": {
    "name": "ipython",
    "version": 2
   },
   "file_extension": ".py",
   "mimetype": "text/x-python",
   "name": "python",
   "nbconvert_exporter": "python",
   "pygments_lexer": "ipython2",
   "version": "2.7.6"
  }
 },
 "nbformat": 4,
 "nbformat_minor": 5
}
