{
 "cells": [
  {
   "metadata": {},
   "cell_type": "markdown",
   "source": "Setting up imports",
   "id": "efe9d0d6e044e16d"
  },
  {
   "metadata": {
    "ExecuteTime": {
     "end_time": "2025-06-08T14:08:10.592203Z",
     "start_time": "2025-06-08T14:08:10.589581Z"
    }
   },
   "cell_type": "code",
   "source": [
    "import torch\n",
    "import torch.nn as nn\n",
    "import torchvision\n",
    "import torchvision.transforms as transforms\n",
    "import pandas as pd\n",
    "import numpy as np\n",
    "\n",
    "from example.CNN_model import CNNModel\n",
    "from example.MNIST_dataset import MNISTDataset"
   ],
   "id": "initial_id",
   "outputs": [],
   "execution_count": 2
  },
  {
   "metadata": {},
   "cell_type": "markdown",
   "source": "Adding custom hyper-parameters",
   "id": "b6180494e602399"
  },
  {
   "metadata": {
    "ExecuteTime": {
     "end_time": "2025-06-08T14:08:11.840258Z",
     "start_time": "2025-06-08T14:08:11.837050Z"
    }
   },
   "cell_type": "code",
   "source": [
    "learning_rate = 0.01\n",
    "momentum = 0.9\n",
    "num_epochs = 20"
   ],
   "id": "b613c53866b5dee5",
   "outputs": [],
   "execution_count": 3
  },
  {
   "metadata": {},
   "cell_type": "markdown",
   "source": "Set up a device for pytorch calculations",
   "id": "785aee24d574964f"
  },
  {
   "metadata": {
    "ExecuteTime": {
     "end_time": "2025-06-08T14:08:14.743412Z",
     "start_time": "2025-06-08T14:08:14.654119Z"
    }
   },
   "cell_type": "code",
   "source": "device = torch.device(\"cuda\" if torch.cuda.is_available() else \"cpu\")",
   "id": "50f20f18d4d19adb",
   "outputs": [],
   "execution_count": 4
  },
  {
   "metadata": {},
   "cell_type": "markdown",
   "source": "Loading datasets, training dataset from kaggle and test dataset from kaggle",
   "id": "5e7f1f76d88f3063"
  },
  {
   "metadata": {
    "ExecuteTime": {
     "end_time": "2025-06-08T14:08:50.292338Z",
     "start_time": "2025-06-08T14:08:47.187326Z"
    }
   },
   "cell_type": "code",
   "source": [
    "train_dataloader = torch.utils.data.DataLoader(dataset=MNISTDataset(file=\"model_data/fashion-mnist_train.csv\"), batch_size=1024, pin_memory=True, num_workers=4)\n",
    "test_dataloader = torch.utils.data.DataLoader(dataset=MNISTDataset(file=\"model_data/fashion-mnist_test.csv\"), batch_size=1024, pin_memory=True, num_workers=4)"
   ],
   "id": "51cae9195d5e338b",
   "outputs": [],
   "execution_count": 10
  },
  {
   "metadata": {},
   "cell_type": "markdown",
   "source": "Add loss function - Cross Entropy Loss",
   "id": "6096ab0d98f07ba8"
  },
  {
   "metadata": {
    "ExecuteTime": {
     "end_time": "2025-06-08T14:08:20.397168Z",
     "start_time": "2025-06-08T14:08:20.394606Z"
    }
   },
   "cell_type": "code",
   "source": "criterion = nn.CrossEntropyLoss()",
   "id": "abcca89b899ff4eb",
   "outputs": [],
   "execution_count": 6
  },
  {
   "metadata": {},
   "cell_type": "markdown",
   "source": "Model initalization and learning algorithm",
   "id": "30137c97aa4c674b"
  },
  {
   "metadata": {
    "ExecuteTime": {
     "end_time": "2025-06-08T14:08:21.999969Z",
     "start_time": "2025-06-08T14:08:21.824990Z"
    }
   },
   "cell_type": "code",
   "source": [
    "model = CNNModel()\n",
    "model.to(device)\n",
    "optimizer = torch.optim.SGD(model.parameters(), lr=learning_rate, momentum=momentum)"
   ],
   "id": "7b2024c8eea2567b",
   "outputs": [],
   "execution_count": 7
  },
  {
   "metadata": {},
   "cell_type": "markdown",
   "source": "Training with printing out loss values by epoch",
   "id": "9218a94b6c5ac93c"
  },
  {
   "metadata": {
    "ExecuteTime": {
     "end_time": "2025-06-08T14:08:32.495Z",
     "start_time": "2025-06-08T14:08:23.214636Z"
    }
   },
   "cell_type": "code",
   "source": [
    "for epoch in range(num_epochs):\n",
    "    model.train()\n",
    "    running_loss = 0.0\n",
    "\n",
    "    for images, labels in train_dataloader:\n",
    "        images, labels = images.to(device, non_blocking=True), labels.to(device, non_blocking=True)\n",
    "\n",
    "        optimizer.zero_grad()\n",
    "        outputs = model(images)\n",
    "        loss = criterion(outputs, labels)\n",
    "\n",
    "        loss.backward()\n",
    "        optimizer.step()\n",
    "\n",
    "\n",
    "        running_loss += loss.item()\n",
    "\n",
    "    print(f\"Epoch [{epoch+1}/{num_epochs}], Loss: {running_loss:.4f}\")"
   ],
   "id": "b9c65831f09cb532",
   "outputs": [
    {
     "name": "stdout",
     "output_type": "stream",
     "text": [
      "Epoch [1/20], Loss: 102.0776\n",
      "Epoch [2/20], Loss: 44.7405\n",
      "Epoch [3/20], Loss: 38.3149\n",
      "Epoch [4/20], Loss: 34.7332\n",
      "Epoch [5/20], Loss: 32.5812\n",
      "Epoch [6/20], Loss: 30.7385\n",
      "Epoch [7/20], Loss: 28.9065\n",
      "Epoch [8/20], Loss: 27.3865\n",
      "Epoch [9/20], Loss: 26.1215\n",
      "Epoch [10/20], Loss: 24.9719\n",
      "Epoch [11/20], Loss: 24.2551\n",
      "Epoch [12/20], Loss: 23.5246\n",
      "Epoch [13/20], Loss: 22.8708\n",
      "Epoch [14/20], Loss: 22.3514\n",
      "Epoch [15/20], Loss: 21.9167\n",
      "Epoch [16/20], Loss: 21.3710\n",
      "Epoch [17/20], Loss: 20.8806\n",
      "Epoch [18/20], Loss: 20.5019\n",
      "Epoch [19/20], Loss: 20.1182\n",
      "Epoch [20/20], Loss: 19.7941\n"
     ]
    }
   ],
   "execution_count": 8
  },
  {
   "metadata": {},
   "cell_type": "markdown",
   "source": "Check model accuracy on test dataset",
   "id": "775f003904685265"
  },
  {
   "metadata": {
    "ExecuteTime": {
     "end_time": "2025-06-08T14:08:52.490574Z",
     "start_time": "2025-06-08T14:08:52.244870Z"
    }
   },
   "cell_type": "code",
   "source": [
    "correct = 0\n",
    "total = 0\n",
    "model.eval()\n",
    "with torch.no_grad():\n",
    "    for images, labels in test_dataloader:\n",
    "        images, labels = images.to(device), labels.to(device)\n",
    "        outputs = model(images)\n",
    "        _, predicted = torch.max(outputs.data, 1)\n",
    "        total += labels.size(0)\n",
    "        correct += (predicted == labels).sum().item()\n",
    "\n",
    "print(f\"Accuracy on test data: {100 * correct / total:.2f}%\")\n"
   ],
   "id": "879a726cfbf98092",
   "outputs": [
    {
     "name": "stdout",
     "output_type": "stream",
     "text": [
      "Accuracy on test data: 87.93%\n"
     ]
    }
   ],
   "execution_count": 11
  }
 ],
 "metadata": {
  "kernelspec": {
   "display_name": "Python 3",
   "language": "python",
   "name": "python3"
  },
  "language_info": {
   "codemirror_mode": {
    "name": "ipython",
    "version": 2
   },
   "file_extension": ".py",
   "mimetype": "text/x-python",
   "name": "python",
   "nbconvert_exporter": "python",
   "pygments_lexer": "ipython2",
   "version": "2.7.6"
  }
 },
 "nbformat": 4,
 "nbformat_minor": 5
}
